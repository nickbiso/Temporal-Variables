{
 "cells": [
  {
   "cell_type": "markdown",
   "metadata": {},
   "source": [
    "### For this exercise SPY500 will be forecasted using temporal variables. The goal is not to create a predictive model but produce code for time variables."
   ]
  },
  {
   "cell_type": "code",
   "execution_count": 1,
   "metadata": {},
   "outputs": [],
   "source": [
    "import numpy as np\n",
    "import pandas as pd\n",
    "import matplotlib.pyplot as plt\n",
    "\n",
    "%matplotlib inline "
   ]
  },
  {
   "cell_type": "markdown",
   "metadata": {},
   "source": [
    "### Read Data"
   ]
  },
  {
   "cell_type": "code",
   "execution_count": 2,
   "metadata": {
    "collapsed": true
   },
   "outputs": [],
   "source": [
    "raw_input = pd.read_csv(\"SPY500.csv\")"
   ]
  },
  {
   "cell_type": "markdown",
   "metadata": {},
   "source": [
    "### Check Data"
   ]
  },
  {
   "cell_type": "code",
   "execution_count": 3,
   "metadata": {},
   "outputs": [
    {
     "data": {
      "text/html": [
       "<div>\n",
       "<style>\n",
       "    .dataframe thead tr:only-child th {\n",
       "        text-align: right;\n",
       "    }\n",
       "\n",
       "    .dataframe thead th {\n",
       "        text-align: left;\n",
       "    }\n",
       "\n",
       "    .dataframe tbody tr th {\n",
       "        vertical-align: top;\n",
       "    }\n",
       "</style>\n",
       "<table border=\"1\" class=\"dataframe\">\n",
       "  <thead>\n",
       "    <tr style=\"text-align: right;\">\n",
       "      <th></th>\n",
       "      <th>Date</th>\n",
       "      <th>Adj Close</th>\n",
       "    </tr>\n",
       "  </thead>\n",
       "  <tbody>\n",
       "    <tr>\n",
       "      <th>0</th>\n",
       "      <td>2/1/1993</td>\n",
       "      <td>27.027504</td>\n",
       "    </tr>\n",
       "    <tr>\n",
       "      <th>1</th>\n",
       "      <td>2/2/1993</td>\n",
       "      <td>27.084740</td>\n",
       "    </tr>\n",
       "    <tr>\n",
       "      <th>2</th>\n",
       "      <td>2/3/1993</td>\n",
       "      <td>27.371080</td>\n",
       "    </tr>\n",
       "    <tr>\n",
       "      <th>3</th>\n",
       "      <td>2/4/1993</td>\n",
       "      <td>27.485609</td>\n",
       "    </tr>\n",
       "    <tr>\n",
       "      <th>4</th>\n",
       "      <td>2/5/1993</td>\n",
       "      <td>27.466482</td>\n",
       "    </tr>\n",
       "  </tbody>\n",
       "</table>\n",
       "</div>"
      ],
      "text/plain": [
       "       Date  Adj Close\n",
       "0  2/1/1993  27.027504\n",
       "1  2/2/1993  27.084740\n",
       "2  2/3/1993  27.371080\n",
       "3  2/4/1993  27.485609\n",
       "4  2/5/1993  27.466482"
      ]
     },
     "execution_count": 3,
     "metadata": {},
     "output_type": "execute_result"
    }
   ],
   "source": [
    "raw_input.head()"
   ]
  },
  {
   "cell_type": "code",
   "execution_count": 4,
   "metadata": {},
   "outputs": [
    {
     "data": {
      "text/html": [
       "<div>\n",
       "<style>\n",
       "    .dataframe thead tr:only-child th {\n",
       "        text-align: right;\n",
       "    }\n",
       "\n",
       "    .dataframe thead th {\n",
       "        text-align: left;\n",
       "    }\n",
       "\n",
       "    .dataframe tbody tr th {\n",
       "        vertical-align: top;\n",
       "    }\n",
       "</style>\n",
       "<table border=\"1\" class=\"dataframe\">\n",
       "  <thead>\n",
       "    <tr style=\"text-align: right;\">\n",
       "      <th></th>\n",
       "      <th>Date</th>\n",
       "      <th>Adj Close</th>\n",
       "    </tr>\n",
       "  </thead>\n",
       "  <tbody>\n",
       "    <tr>\n",
       "      <th>9583</th>\n",
       "      <td>4/29/2019</td>\n",
       "      <td>293.869995</td>\n",
       "    </tr>\n",
       "    <tr>\n",
       "      <th>9584</th>\n",
       "      <td>4/30/2019</td>\n",
       "      <td>294.019989</td>\n",
       "    </tr>\n",
       "    <tr>\n",
       "      <th>9585</th>\n",
       "      <td>5/1/2019</td>\n",
       "      <td>291.809998</td>\n",
       "    </tr>\n",
       "    <tr>\n",
       "      <th>9586</th>\n",
       "      <td>5/2/2019</td>\n",
       "      <td>291.179993</td>\n",
       "    </tr>\n",
       "    <tr>\n",
       "      <th>9587</th>\n",
       "      <td>5/3/2019</td>\n",
       "      <td>294.029999</td>\n",
       "    </tr>\n",
       "  </tbody>\n",
       "</table>\n",
       "</div>"
      ],
      "text/plain": [
       "           Date   Adj Close\n",
       "9583  4/29/2019  293.869995\n",
       "9584  4/30/2019  294.019989\n",
       "9585   5/1/2019  291.809998\n",
       "9586   5/2/2019  291.179993\n",
       "9587   5/3/2019  294.029999"
      ]
     },
     "execution_count": 4,
     "metadata": {},
     "output_type": "execute_result"
    }
   ],
   "source": [
    "raw_input.tail()"
   ]
  },
  {
   "cell_type": "markdown",
   "metadata": {},
   "source": [
    "### Input Date column name and Adj Close (y) column name"
   ]
  },
  {
   "cell_type": "code",
   "execution_count": 5,
   "metadata": {
    "collapsed": true
   },
   "outputs": [],
   "source": [
    "date_col = \"Date\"\n",
    "y_col = \"Adj Close\""
   ]
  },
  {
   "cell_type": "markdown",
   "metadata": {},
   "source": [
    "### Convert Date to Datetime"
   ]
  },
  {
   "cell_type": "code",
   "execution_count": 6,
   "metadata": {},
   "outputs": [],
   "source": [
    "raw_input[date_col] = pd.to_datetime(raw_input[date_col])\n",
    "raw_input = raw_input.set_index(date_col)"
   ]
  },
  {
   "cell_type": "markdown",
   "metadata": {},
   "source": [
    "### Plot Data"
   ]
  },
  {
   "cell_type": "code",
   "execution_count": 7,
   "metadata": {},
   "outputs": [
    {
     "data": {
      "text/plain": [
       "<matplotlib.axes._subplots.AxesSubplot at 0x22912186cc0>"
      ]
     },
     "execution_count": 7,
     "metadata": {},
     "output_type": "execute_result"
    },
    {
     "data": {
      "image/png": "[encoded data removed]",
      "text/plain": [
       "<matplotlib.figure.Figure at 0x229121860f0>"
      ]
     },
     "metadata": {},
     "output_type": "display_data"
    }
   ],
   "source": [
    "raw_input.plot(title = 'SPY500',figsize=(12,4))"
   ]
  },
  {
   "cell_type": "markdown",
   "metadata": {},
   "source": [
    "### Detrend Data"
   ]
  },
  {
   "cell_type": "code",
   "execution_count": 8,
   "metadata": {
    "collapsed": true,
    "scrolled": true
   },
   "outputs": [],
   "source": [
    "raw_input['detrended_y'] = raw_input[y_col]/raw_input[y_col].shift(1)\n",
    "raw_input.dropna(inplace=True,axis=0)\n",
    "raw_input.drop(y_col,axis=1,inplace=True)"
   ]
  },
  {
   "cell_type": "markdown",
   "metadata": {},
   "source": [
    "### Plot Detrended Data"
   ]
  },
  {
   "cell_type": "code",
   "execution_count": 9,
   "metadata": {
    "scrolled": false
   },
   "outputs": [
    {
     "data": {
      "text/plain": [
       "<matplotlib.axes._subplots.AxesSubplot at 0x229143bd668>"
      ]
     },
     "execution_count": 9,
     "metadata": {},
     "output_type": "execute_result"
    },
    {
     "data": {
      "image/png": "[encoded data removed]",
      "text/plain": [
       "<matplotlib.figure.Figure at 0x229143c5198>"
      ]
     },
     "metadata": {},
     "output_type": "display_data"
    }
   ],
   "source": [
    "raw_input['detrended_y'].plot(title = 'Detrended SPY500',figsize=(12,4))"
   ]
  },
  {
   "cell_type": "markdown",
   "metadata": {},
   "source": [
    "### Plot the Distribution of Target Variable"
   ]
  },
  {
   "cell_type": "code",
   "execution_count": 10,
   "metadata": {},
   "outputs": [
    {
     "data": {
      "text/plain": [
       "<matplotlib.axes._subplots.AxesSubplot at 0x2291454f908>"
      ]
     },
     "execution_count": 10,
     "metadata": {},
     "output_type": "execute_result"
    },
    {
     "data": {
      "image/png": "[encoded data removed]",
      "text/plain": [
       "<matplotlib.figure.Figure at 0x229143c92b0>"
      ]
     },
     "metadata": {},
     "output_type": "display_data"
    }
   ],
   "source": [
    "raw_input['detrended_y'].plot(title = 'Detrended SPY500',figsize=(12,4),kind = 'hist')"
   ]
  },
  {
   "cell_type": "markdown",
   "metadata": {},
   "source": [
    "### Temporal Variable Functions:"
   ]
  },
  {
   "cell_type": "code",
   "execution_count": 11,
   "metadata": {
    "collapsed": true
   },
   "outputs": [],
   "source": [
    "def av_weekday(df):\n",
    "    '''\n",
    "    Add Two Types of Weekday Variable to DataFrame:\n",
    "    1. Binary\n",
    "    2. Ordinal (Monday is zero)\n",
    "    \n",
    "    One can be dropper under the user's discretion.\n",
    "    '''\n",
    "    \n",
    "    df['weekday'] = df.index.weekday\n",
    "    \n",
    "    df['sun'] = (df['weekday'] == 6).astype(int)\n",
    "    df['mon'] = (df['weekday'] == 0).astype(int)\n",
    "    df['tue'] = (df['weekday'] == 1).astype(int)\n",
    "    df['wed'] = (df['weekday'] == 2).astype(int)\n",
    "    df['thu'] = (df['weekday'] == 3).astype(int)\n",
    "    df['fri'] = (df['weekday'] == 4).astype(int)\n",
    "    df['sat'] = (df['weekday'] == 5).astype(int)\n",
    "    \n",
    "    df.drop('weekday',axis=1,inplace=True)\n",
    "    \n",
    "    return df"
   ]
  },
  {
   "cell_type": "code",
   "execution_count": 12,
   "metadata": {
    "collapsed": true
   },
   "outputs": [],
   "source": [
    "def av_month(df):\n",
    "    '''\n",
    "    Add Two Types of Month Variable to DataFrame:\n",
    "    1. Binary\n",
    "    2. Ordinal (Monday is zero)\n",
    "    \n",
    "    One can be dropper under the user's discretion.\n",
    "    '''\n",
    "    \n",
    "    df['month'] = df.index.month\n",
    "    \n",
    "    df['jan'] = (df['month'] == 1).astype(int)\n",
    "    df['feb'] = (df['month'] == 2).astype(int)\n",
    "    df['mar'] = (df['month'] == 3).astype(int)\n",
    "    df['apr'] = (df['month'] == 4).astype(int)\n",
    "    df['may'] = (df['month'] == 5).astype(int)\n",
    "    df['jun'] = (df['month'] == 6).astype(int)\n",
    "    df['jul'] = (df['month'] == 7).astype(int)\n",
    "    df['aug'] = (df['month'] == 8).astype(int)\n",
    "    df['sep'] = (df['month'] == 9).astype(int)\n",
    "    df['oct'] = (df['month'] == 10).astype(int)\n",
    "    df['nov'] = (df['month'] == 11).astype(int)\n",
    "    df['dec'] = (df['month'] == 12).astype(int)\n",
    "    \n",
    "    return df"
   ]
  },
  {
   "cell_type": "code",
   "execution_count": 13,
   "metadata": {
    "collapsed": true
   },
   "outputs": [],
   "source": [
    "def av_dayofmonth(df):\n",
    "    '''\n",
    "    Add Two Types of Day of Month Variable to DataFrame:\n",
    "    1. Binary\n",
    "    2. Ordinal (Monday is zero)\n",
    "    \n",
    "    One can be dropper under the user's discretion.\n",
    "    '''\n",
    "    \n",
    "    df['dayofmonth'] = df.index.day\n",
    "    \n",
    "    for day in range(1,32):\n",
    "        df['dayofmonth_' + str(day).zfill(2)] = (df['dayofmonth'] == day).astype(int)\n",
    "        \n",
    "    df['days_in_month'] = df.index.daysinmonth\n",
    "    \n",
    "    return df"
   ]
  },
  {
   "cell_type": "code",
   "execution_count": 14,
   "metadata": {
    "collapsed": true
   },
   "outputs": [],
   "source": [
    "def av_weekofyear(df):\n",
    "    '''\n",
    "    Add week of year variable\n",
    "    '''\n",
    "\n",
    "    df['weekofyear'] = df.index.week\n",
    "    \n",
    "    return df"
   ]
  },
  {
   "cell_type": "code",
   "execution_count": 15,
   "metadata": {
    "collapsed": true
   },
   "outputs": [],
   "source": [
    "def av_weekofmonth(df):\n",
    "    '''\n",
    "    Add week of month variable in binary.\n",
    "    '''\n",
    "    df['weekofmonth_1'] = (df['dayofmonth']<8).astype(int)\n",
    "    df['weekofmonth_2'] = ((7 < df['dayofmonth']) & (df['dayofmonth'] < 15)).astype(int)\n",
    "    df['weekofmonth_3'] = ((14 < df['dayofmonth']) & (df['dayofmonth'] < 22)).astype(int)\n",
    "    df['weekofmonth_4'] = ((21 < df['dayofmonth']) & (df['dayofmonth'] < 29)).astype(int)\n",
    "    df['weekofmonth_5'] = ((28 < df['dayofmonth']) & (df['dayofmonth'] <= 31)).astype(int)\n",
    "    \n",
    "    return df"
   ]
  },
  {
   "cell_type": "code",
   "execution_count": 16,
   "metadata": {
    "collapsed": true
   },
   "outputs": [],
   "source": [
    "def av_weekday_ordinal(df):\n",
    "    '''\n",
    "    Add the ordinal weekday\n",
    "    '''\n",
    "        \n",
    "    for day in ['sun','mon','tue','wed','thu','fri','sat']:\n",
    "        df[str(day) + \"_1\"] = ((df[day] == 1) & (df['dayofmonth'] < 8)).astype(int)\n",
    "        df[str(day) + \"_2\"] = ((df[day] == 1) & (8 <= df['dayofmonth']) & (df['dayofmonth'] < 15)).astype(int)\n",
    "        df[str(day) + \"_3\"] = ((df[day] == 1) & (15 <= df['dayofmonth']) & (df['dayofmonth'] < 22)).astype(int)\n",
    "        df[str(day) + \"_4\"] = ((df[day] == 1) & (22 <= df['dayofmonth']) & (df['dayofmonth'] < 29)).astype(int)\n",
    "        df[str(day) + \"_5\"] = ((df[day] == 1) & (29 <= df['dayofmonth']) & (df['dayofmonth'] <= 31)).astype(int)\n",
    "        \n",
    "    return df\n",
    "    \n",
    "    "
   ]
  },
  {
   "cell_type": "code",
   "execution_count": 17,
   "metadata": {
    "collapsed": true
   },
   "outputs": [],
   "source": [
    "def av_weekday_ordinal2(df):\n",
    "    '''\n",
    "    Add the week number based on the week of month. Week ending on Saturday.\n",
    "    '''\n",
    "        \n",
    "    df['sun2_1'] = ((df['sun'] == 1) & (df['dayofmonth'] == 1)).astype(int)\n",
    "    df['sun2_2'] = ((df['sun'] == 1) & (2 <= df['dayofmonth']) & (df['dayofmonth'] < 9)).astype(int)\n",
    "    df['sun2_3'] = ((df['sun'] == 1) & (9 <= df['dayofmonth']) & (df['dayofmonth'] < 16)).astype(int)\n",
    "    df['sun2_4'] = ((df['sun'] == 1) & (16 <= df['dayofmonth']) & (df['dayofmonth'] < 23)).astype(int)\n",
    "    df['sun2_5'] = ((df['sun'] == 1) & (23 <= df['dayofmonth']) & (df['dayofmonth'] < 30)).astype(int)\n",
    "    df['sun2_6'] = ((df['sun'] == 1) & (30 <= df['dayofmonth']) & (df['dayofmonth'] <= 31)).astype(int)\n",
    "    \n",
    "    df['mon2_1'] = ((df['mon'] == 1) & (1 <= df['dayofmonth']) & (df['dayofmonth'] < 3)).astype(int)\n",
    "    df['mon2_2'] = ((df['mon'] == 1) & (3 <= df['dayofmonth']) & (df['dayofmonth'] < 10)).astype(int)\n",
    "    df['mon2_3'] = ((df['mon'] == 1) & (10 <= df['dayofmonth']) & (df['dayofmonth'] < 17)).astype(int)\n",
    "    df['mon2_4'] = ((df['mon'] == 1) & (17 <= df['dayofmonth']) & (df['dayofmonth'] < 24)).astype(int)\n",
    "    df['mon2_5'] = ((df['mon'] == 1) & (24 <= df['dayofmonth']) & (df['dayofmonth'] < 31)).astype(int)\n",
    "    df['mon2_6'] = ((df['mon'] == 1) & (df['dayofmonth'] == 31)).astype(int)\n",
    "    \n",
    "    df['tue2_1'] = ((df['tue'] == 1) & (1 <= df['dayofmonth']) & (df['dayofmonth'] < 4)).astype(int)\n",
    "    df['tue2_2'] = ((df['tue'] == 1) & (4 <= df['dayofmonth']) & (df['dayofmonth'] < 11)).astype(int)\n",
    "    df['tue2_3'] = ((df['tue'] == 1) & (11 <= df['dayofmonth']) & (df['dayofmonth'] < 18)).astype(int)\n",
    "    df['tue2_4'] = ((df['tue'] == 1) & (18 <= df['dayofmonth']) & (df['dayofmonth'] < 25)).astype(int)\n",
    "    df['tue2_5'] = ((df['tue'] == 1) & (25 <= df['dayofmonth']) & (df['dayofmonth'] <= 31)).astype(int)\n",
    "    \n",
    "    df['wed2_1'] = ((df['wed'] == 1) & (1 <= df['dayofmonth']) & (df['dayofmonth'] < 5)).astype(int)\n",
    "    df['wed2_2'] = ((df['wed'] == 1) & (5 <= df['dayofmonth']) & (df['dayofmonth'] < 12)).astype(int)\n",
    "    df['wed2_3'] = ((df['wed'] == 1) & (12 <= df['dayofmonth']) & (df['dayofmonth'] < 19)).astype(int)\n",
    "    df['wed2_4'] = ((df['wed'] == 1) & (19 <= df['dayofmonth']) & (df['dayofmonth'] < 26)).astype(int)\n",
    "    df['wed2_5'] = ((df['wed'] == 1) & (26 <= df['dayofmonth']) & (df['dayofmonth'] <= 31)).astype(int)\n",
    "    \n",
    "    df['thu2_1'] = ((df['thu'] == 1) & (1 <= df['dayofmonth']) & (df['dayofmonth'] < 6)).astype(int)\n",
    "    df['thu2_2'] = ((df['thu'] == 1) & (6 <= df['dayofmonth']) & (df['dayofmonth'] < 13)).astype(int)\n",
    "    df['thu2_3'] = ((df['thu'] == 1) & (13 <= df['dayofmonth']) & (df['dayofmonth'] < 20)).astype(int)\n",
    "    df['thu2_4'] = ((df['thu'] == 1) & (20 <= df['dayofmonth']) & (df['dayofmonth'] < 27)).astype(int)\n",
    "    df['thu2_5'] = ((df['thu'] == 1) & (27 <= df['dayofmonth']) & (df['dayofmonth'] <= 31)).astype(int)\n",
    "                    \n",
    "    df['fri2_1'] = ((df['fri'] == 1) & (1 <= df['dayofmonth']) & (df['dayofmonth'] < 7)).astype(int)\n",
    "    df['fri2_2'] = ((df['fri'] == 1) & (7 <= df['dayofmonth']) & (df['dayofmonth'] < 14)).astype(int)\n",
    "    df['fri2_3'] = ((df['fri'] == 1) & (14 <= df['dayofmonth']) & (df['dayofmonth'] < 21)).astype(int)\n",
    "    df['fri2_4'] = ((df['fri'] == 1) & (21 <= df['dayofmonth']) & (df['dayofmonth'] < 28)).astype(int)\n",
    "    df['fri2_5'] = ((df['fri'] == 1) & (28 <= df['dayofmonth']) & (df['dayofmonth'] <= 31)).astype(int)\n",
    "                    \n",
    "    df['sat2_1'] = ((df['sat'] == 1) & (1 <= df['dayofmonth']) & (df['dayofmonth'] < 8)).astype(int)\n",
    "    df['sat2_2'] = ((df['sat'] == 1) & (8 <= df['dayofmonth']) & (df['dayofmonth'] < 15)).astype(int)\n",
    "    df['sat2_3'] = ((df['sat'] == 1) & (15 <= df['dayofmonth']) & (df['dayofmonth'] < 22)).astype(int)\n",
    "    df['sat2_4'] = ((df['sat'] == 1) & (22 <= df['dayofmonth']) & (df['dayofmonth'] < 29)).astype(int)\n",
    "    df['sat2_5'] = ((df['sat'] == 1) & (29 <= df['dayofmonth']) & (df['dayofmonth'] <= 31)).astype(int)\n",
    "    \n",
    "        \n",
    "    return df"
   ]
  },
  {
   "cell_type": "code",
   "execution_count": 18,
   "metadata": {
    "collapsed": true
   },
   "outputs": [],
   "source": [
    "def av_minor_holidays(df):\n",
    "    '''\n",
    "    Add Minor Holidays to df\n",
    "    '''\n",
    "    \n",
    "    df['valentines'] = ((df['feb'] == 1) & (df['dayofmonth'] == 14)).astype(int)\n",
    "    df['mothers'] = ((df['may'] == 1) & (df['weekofmonth_2'] == 2) & (df['sun'] == 1)).astype(int)\n",
    "    \n",
    "    \n",
    "    return df"
   ]
  },
  {
   "cell_type": "code",
   "execution_count": 19,
   "metadata": {
    "collapsed": true
   },
   "outputs": [],
   "source": [
    "def av_federal_holiday(df):\n",
    "    '''\n",
    "    Add the Federal Holidays:\n",
    "    \n",
    "    new_year - Jan 1st\n",
    "    christmas - Dec 25\n",
    "    independence - Jul 4\n",
    "    veterans - Nov 11\n",
    "    \n",
    "    thanksgiving - 4th thu of Nov\n",
    "    mlk - 3rd mon of Jan\n",
    "    presidents - 3rd mon of feb\n",
    "    labor - 1st mon of sep\n",
    "    columbus - 2nd mon of oct\n",
    "    memorial day - last monday of may\n",
    "    '''\n",
    "    \n",
    "    df['new_year'] = ((df['jan'] == 1) & (df['dayofmonth'] == 1)).astype(int)\n",
    "    df['christmas'] = ((df['dec'] == 1) & (df['dayofmonth'] == 25)).astype(int)\n",
    "    df['independence'] = ((df['jul'] == 1) & (df['dayofmonth'] == 4)).astype(int)\n",
    "    df['veterans'] = ((df['nov'] == 1) & (df['dayofmonth'] == 11)).astype(int)\n",
    "    \n",
    "    df['thanksgiving'] = ((df['nov'] == 1) & (df['thu_4'] == 1)).astype(int)\n",
    "    df['mlk'] = ((df['jan'] == 1) & (df['mon_3'] == 1)).astype(int)\n",
    "    df['presidents'] = ((df['feb'] == 1) & (df['mon_3'] == 1)).astype(int)\n",
    "    df['labor'] = ((df['sep'] == 1) & (df['mon_1'] == 1)).astype(int)\n",
    "    df['columbus'] = ((df['oct'] == 1) & (df['mon_2'] == 1)).astype(int)\n",
    "    \n",
    "    df['memorial'] = ((df['may'] == 1) & (df['mon'] == 1) & (25 <= df['dayofmonth']) & (df['dayofmonth'] <= 31) ).astype(int)\n",
    "    \n",
    "    federal_holidays = ['new_year','christmas','independence','veterans','thanksgiving','mlk','presidents','labor',\n",
    "                       'columbus','memorial']\n",
    "    \n",
    "    df['federal_holidays'] = df[federal_holidays].sum(axis=1).values\n",
    "    \n",
    "\n",
    "    return df,federal_holidays\n",
    "    "
   ]
  },
  {
   "cell_type": "code",
   "execution_count": 20,
   "metadata": {
    "collapsed": true
   },
   "outputs": [],
   "source": [
    "good_friday = [ '3-29-2024',\n",
    "                '4-7-2023',\n",
    "                '4-15-2022',\n",
    "                '4-2-2021',\n",
    "                '4-10-2020',\n",
    "                '4-19-2019',\n",
    "                '3-30-2018',\n",
    "                '4-14-2017',\n",
    "                '3-25-2016',\n",
    "                '4-3-2015',\n",
    "                '4-18-2014',\n",
    "                '3-29-2013',\n",
    "                '4-6-2012',\n",
    "                '4-22-2011',\n",
    "                '4-2-2010',\n",
    "                '4-10-2009',\n",
    "                '3-21-2008',\n",
    "                '4-6-2007',\n",
    "                '4-14-2006',\n",
    "                '3-25-2005',\n",
    "                '4-9-2004',\n",
    "                '4-18-2003',\n",
    "                '3-29-2002',\n",
    "                '4-13-2001',\n",
    "                '4-21-2000',\n",
    "                '4-2-1999',\n",
    "                '4-10-1998',\n",
    "                '3-28-1997',\n",
    "                '4-5-1996',\n",
    "                '4-14-1995',\n",
    "                '4-1-1994',\n",
    "                '4-9-1993',\n",
    "                '4-17-1992',\n",
    "                '3-29-1991',\n",
    "                '4-13-1990']\n",
    "\n",
    "easter = ['5-31-1991',\n",
    "        '4-19-1992',\n",
    "        '4-11-1993',\n",
    "        '4-3-1994',\n",
    "        '4-16-1995',\n",
    "        '4-7-1996',\n",
    "        '5-30-1997',\n",
    "        '4-12-1998',\n",
    "        '4-4-1999',\n",
    "        '4-23-2000',\n",
    "        '4-15-2001',\n",
    "        '5-31-2002',\n",
    "        '4-20-2003',\n",
    "        '4-11-2004',\n",
    "        '5-27-2005',\n",
    "        '4-16-2006',\n",
    "        '4-8-2007',\n",
    "        '5-23-2008',\n",
    "        '4-12-2009',\n",
    "        '4-4-2010',\n",
    "        '4-24-2011',\n",
    "        '4-8-2012',\n",
    "        '5-31-2013',\n",
    "        '4-20-2014',\n",
    "        '4-5-2015',\n",
    "        '5-27-2016',\n",
    "        '4-16-2017',\n",
    "        '4-1-2018',\n",
    "        '4-21-2019',\n",
    "        '4-12-2020',\n",
    "        '4-4-2021',\n",
    "        '4-17-2022',\n",
    "        '4-9-2023',\n",
    "        '5-31-2024',\n",
    "]\n",
    "no_pattern_holidays = {'good_friday':good_friday,\n",
    "                      'easter':easter}"
   ]
  },
  {
   "cell_type": "code",
   "execution_count": 21,
   "metadata": {
    "collapsed": true
   },
   "outputs": [],
   "source": [
    "def list_of_dates_to_column(df,list_of_dates,column_name):\n",
    "    '''\n",
    "    Turns a list of list of dates into a column variables. This can be used for special days that does not any rules (or unknown) in terms of occurance.\n",
    "    '''\n",
    "    \n",
    "    df[column_name] = 0\n",
    "    \n",
    "    for date in list_of_dates:\n",
    "        df[column_name] = df[column_name] + pd.Series((df.reset_index()['Date'] == date).astype(int)).values\n",
    "\n",
    "    return df"
   ]
  },
  {
   "cell_type": "code",
   "execution_count": 22,
   "metadata": {
    "collapsed": true
   },
   "outputs": [],
   "source": [
    "def av_stock_market_holiday(df):\n",
    "    '''\n",
    "    Add the stock market Holidays:\n",
    "    \n",
    "    new_year - Jan 1st\n",
    "    christmas - Dec 25\n",
    "    independence - Jul 4\n",
    "    veterans - Nov 11\n",
    "    \n",
    "    thanksgiving - 4th thu of Nov\n",
    "    mlk - 3rd mon of Jan\n",
    "    presidents - 3rd mon of feb\n",
    "    labor - 1st mon of sep\n",
    "    columbus - 2nd mon of oct\n",
    "    memorial day - last monday of may\n",
    "    '''\n",
    "    \n",
    "    df['new_year'] = ((df['jan'] == 1) & (df['dayofmonth'] == 1)).astype(int)\n",
    "    df['christmas'] = ((df['dec'] == 1) & (df['dayofmonth'] == 25)).astype(int)\n",
    "    df['independence'] = ((df['jul'] == 1) & (df['dayofmonth'] == 4)).astype(int)\n",
    "    df['veterans'] = ((df['nov'] == 1) & (df['dayofmonth'] == 11)).astype(int)\n",
    "    \n",
    "    df['thanksgiving'] = ((df['nov'] == 1) & (df['thu_4'] == 1)).astype(int)\n",
    "    df['mlk'] = ((df['jan'] == 1) & (df['mon_3'] == 1)).astype(int)\n",
    "    df['presidents'] = ((df['feb'] == 1) & (df['mon_3'] == 1)).astype(int)\n",
    "    df['labor'] = ((df['sep'] == 1) & (df['mon_1'] == 1)).astype(int)\n",
    "    df['columbus'] = ((df['oct'] == 1) & (df['mon_2'] == 1)).astype(int)\n",
    "    \n",
    "    df['memorial'] = ((df['may'] == 1) & (df['mon'] == 1) & (25 <= df['dayofmonth']) & (df['dayofmonth'] <= 31) ).astype(int)\n",
    "    \n",
    "        \n",
    "    return df\n",
    "    "
   ]
  },
  {
   "cell_type": "code",
   "execution_count": 23,
   "metadata": {
    "collapsed": true
   },
   "outputs": [],
   "source": [
    "def av_daysinmonth(df):\n",
    "    '''\n",
    "    Add days in month\n",
    "    '''\n",
    "    df['days_30'] = df['apr'] + df['jun'] + df['sep'] + df['nov']    \n",
    "    df['days_31'] = df['jan'] + df['mar'] + df['may'] + df['jul'] + df['aug'] + df['oct'] + df['dec']     \n",
    "    \n",
    "    return df"
   ]
  },
  {
   "cell_type": "code",
   "execution_count": 24,
   "metadata": {
    "collapsed": true
   },
   "outputs": [],
   "source": [
    "def av_seq(df,date_col):\n",
    "    '''\n",
    "    Add variable sequence to put  more weightage in more recent data\n",
    "    '''\n",
    "    df['seq'] = df.reset_index().index\n",
    "    df['seq2'] = df['seq']**2\n",
    "    df['seq3'] = df['seq']**3\n",
    "    \n",
    "    #df = df.set_index(date_col)\n",
    "    \n",
    "    return df"
   ]
  },
  {
   "cell_type": "code",
   "execution_count": 25,
   "metadata": {
    "collapsed": true
   },
   "outputs": [],
   "source": [
    "def av_quarter(df):\n",
    "    \n",
    "    '''\n",
    "    Add quater of the year in the df\n",
    "    '''\n",
    "    \n",
    "    df['quarter'] = df.index.quarter.astype(int)\n",
    "    \n",
    "    return df"
   ]
  },
  {
   "cell_type": "code",
   "execution_count": 26,
   "metadata": {
    "collapsed": true
   },
   "outputs": [],
   "source": [
    "def av_leap_year(df):\n",
    "    '''\n",
    "    Add Leap Year in the df\n",
    "    '''\n",
    "    \n",
    "    df['quarter'] = df.index.is_leap_year.astype(int)\n",
    "    \n",
    "    return df"
   ]
  },
  {
   "cell_type": "code",
   "execution_count": 27,
   "metadata": {
    "collapsed": true
   },
   "outputs": [],
   "source": [
    "def av_startof_endof(df):\n",
    "    '''\n",
    "    Add the start and end of the month\n",
    "    \n",
    "    '''\n",
    "    \n",
    "    df['endof_month'] = df.index.is_month_end.astype(int)\n",
    "    \n",
    "    df['startof_quarter'] = df.index.is_quarter_start.astype(int)\n",
    "    df['endof_quarter'] = df.index.is_quarter_end.astype(int)\n",
    "    \n",
    "    \n",
    "    return df"
   ]
  },
  {
   "cell_type": "code",
   "execution_count": 28,
   "metadata": {
    "collapsed": true
   },
   "outputs": [],
   "source": [
    "day_before = {'endof_month':2,\n",
    "             'good_friday':2,\n",
    "             'new_year':2,\n",
    "             'christmas':2,\n",
    "             'independence':2,\n",
    "             'veterans':2,\n",
    "             'thanksgiving':2,\n",
    "             'mlk':2,\n",
    "             'presidents':2,\n",
    "             'labor':2,\n",
    "             'columbus':2,\n",
    "             'memorial':2,\n",
    "              'federal_holidays':2\n",
    "             }"
   ]
  },
  {
   "cell_type": "code",
   "execution_count": 29,
   "metadata": {
    "collapsed": true
   },
   "outputs": [],
   "source": [
    "day_after = {'endof_month':2,\n",
    "             'good_friday':2,\n",
    "             'new_year':2,\n",
    "             'christmas':2,\n",
    "             'independence':2,\n",
    "             'veterans':2,\n",
    "             'thanksgiving':2,\n",
    "             'mlk':2,\n",
    "             'presidents':2,\n",
    "             'labor':2,\n",
    "             'columbus':2,\n",
    "             'memorial':2,\n",
    "             'federal_holidays':2\n",
    "             }"
   ]
  },
  {
   "cell_type": "code",
   "execution_count": 30,
   "metadata": {
    "collapsed": true
   },
   "outputs": [],
   "source": [
    "def av_day_before_after(day_before,day_after,df):\n",
    "    '''\n",
    "    Creates day before/after based on the day_before and day_after dictionary\n",
    "    \n",
    "    '''\n",
    "    day_before_column_names = []\n",
    "    \n",
    "    for key, value in day_after.items():\n",
    "        for v in range(value):\n",
    "            col_name = str(key) + \"_+\" + str(v+1)\n",
    "            df[col_name] = df[key].shift(v+1)\n",
    "            day_before_column_names.append(col_name)\n",
    "            \n",
    "            \n",
    "    for key, value in day_before.items():\n",
    "        for v in range(value):\n",
    "            col_name = str(key) + \"_-\" + str(v+1)\n",
    "            df[col_name] = df[key].shift(-v-1)\n",
    "            day_before_column_names.append(col_name)\n",
    "    df.fillna(0,inplace=True)\n",
    "    return day_before_column_names, df"
   ]
  },
  {
   "cell_type": "code",
   "execution_count": 31,
   "metadata": {
    "collapsed": true
   },
   "outputs": [],
   "source": [
    "def av_lags(df,y_col,day_lag,week_lag):\n",
    "    '''\n",
    "    Creates Lag Variables and Weekly rolling windows\n",
    "    '''\n",
    "    \n",
    "    for lag in range(1,day_lag):\n",
    "        df['Lags_' + str(lag)] = df[y_col].shift(lag)\n",
    "\n",
    "    for lag in range(1,week_lag):\n",
    "        df['Lag_week_' + str(lag)] = df[y_col].shift(7*lag)\n",
    "        \n",
    "    for week in range(7,56,7):\n",
    "        df['Rolling_min_' + str(week)] = df[y_col].rolling(week).min()\n",
    "        df['Rolling_max_' + str(week)] = df[y_col].rolling(week).max()\n",
    "        df['Rolling_sum_' + str(week)] = df[y_col].rolling(week).sum()\n",
    "        df['Rolling_std_' + str(week)] = df[y_col].rolling(week).std()\n",
    "    \n",
    "    \n",
    "    df.dropna(inplace=True)\n",
    "    \n",
    "    \n",
    "    return df"
   ]
  },
  {
   "cell_type": "code",
   "execution_count": 32,
   "metadata": {
    "collapsed": true
   },
   "outputs": [],
   "source": [
    "def av_stock_market_closed(df):\n",
    "    '''\n",
    "    Adds variables where in the stock market is closed\n",
    "    '''\n",
    "    \n",
    "    df['stock_market_closed'] = df['new_year'] + df['mlk'] + df['presidents'] + df['good_friday'] + df['memorial'] + \\\n",
    "                                df['independence'] + df['labor'] + df['thanksgiving'] + df['christmas']\n",
    "    \n",
    "    return df"
   ]
  },
  {
   "cell_type": "code",
   "execution_count": 33,
   "metadata": {
    "collapsed": true
   },
   "outputs": [],
   "source": [
    "def av_holiday_impact(df):\n",
    "    '''\n",
    "    Adds variables which indicates holiday impact through:\n",
    "    1. Number of states observed with government offices closed\n",
    "    2. Percent of americans celebrating\n",
    "    3. Percent of Businesses Giving Paid Time off\n",
    "    \n",
    "    '''\n",
    "    #Number of states observed with government offices closed\n",
    "    \n",
    "    government_offices_closed_list = []\n",
    "    \n",
    "    government_offices_closed_dict = {\n",
    "        'christmas':50,\n",
    "        'christmas_+1':6,\n",
    "        'christmas_-1':11,\n",
    "        'new_year':50,\n",
    "        'independence':50,\n",
    "        'veterans':50,\n",
    "        'mlk':45,\n",
    "        'presidents':38,\n",
    "        'labor':50,\n",
    "        'thanksgiving':50,\n",
    "        'thanksgiving_+1':18,\n",
    "        'columbus':23,\n",
    "        'memorial':50\n",
    "    }\n",
    "    \n",
    "    for key in government_offices_closed_dict:\n",
    "        df[str(key) + '_gov_ofc_closed'] = df[key]*government_offices_closed_dict[key]\n",
    "        government_offices_closed_list.append(str(key) + '_gov_ofc_closed')\n",
    "        \n",
    "    df['government_offices_closed'] = df[government_offices_closed_list].sum(axis=1)/50\n",
    "    \n",
    "    df.drop(government_offices_closed_list,axis=1,inplace=True)\n",
    "    \n",
    "    #Percent of americans celebrating\n",
    "    percent_of_americans_celebrating_list = []\n",
    "    \n",
    "    percent_of_americans_celebrating_dict = {\n",
    "        'christmas':.95,\n",
    "        'new_year':.75,\n",
    "        'new_year_-1':.4,\n",
    "        #'mothers':.85,\n",
    "        'easter':.8,\n",
    "        'independence':.8,\n",
    "        'veterans':.43,\n",
    "        'mlk':.26,\n",
    "        'presidents':.52,\n",
    "        'labor':.55,\n",
    "        'thanksgiving':.9,\n",
    "        'columbus':.23,\n",
    "        'valentines':.55,\n",
    "        'memorial':.21,\n",
    "        'columbus':.1,\n",
    "    }\n",
    "    \n",
    "    for key in percent_of_americans_celebrating_dict:\n",
    "        df[str(key) + '_percent_of_americans_celebrating'] = df[key]*percent_of_americans_celebrating_dict[key]\n",
    "        percent_of_americans_celebrating_list.append(str(key) + '_percent_of_americans_celebrating')\n",
    "    \n",
    "    df['percent_of_americans_celebrating'] = df[percent_of_americans_celebrating_list].sum(axis=1)\n",
    "    df.drop(percent_of_americans_celebrating_list,axis=1,inplace=True)\n",
    "    \n",
    "    #Percent of Businesses Giving Paid Time off\n",
    "    percent_of_businesses_giving_paid_time_off_list = []\n",
    "    \n",
    "    percent_of_businesses_giving_paid_time_off_dict = {\n",
    "        'christmas':.94,\n",
    "        'christmas_-2':.33,\n",
    "        'christmas_-1':.78,\n",
    "        'christmas_+1':.5,\n",
    "        'new_year':.96,\n",
    "        'new_year_-1':.71,\n",
    "        'independence':.97,\n",
    "        'veterans':.20,\n",
    "        'mlk':.35,\n",
    "        'presidents':.35,\n",
    "        'labor':.95,\n",
    "        'thanksgiving':.97,\n",
    "        'thanksgiving_+1':.7,\n",
    "        'columbus':.15,\n",
    "        'memorial':.95,\n",
    "    }\n",
    "    \n",
    "    for key in percent_of_businesses_giving_paid_time_off_dict:\n",
    "        df[str(key) + '_percent_of_businesses_giving_paid_time_off'] = df[key]*percent_of_businesses_giving_paid_time_off_dict[key]\n",
    "        percent_of_businesses_giving_paid_time_off_list.append(str(key) + '_percent_of_businesses_giving_paid_time_off')\n",
    "    \n",
    "    df['percent_of_businesses_giving_paid_time_off'] = df[percent_of_businesses_giving_paid_time_off_list].sum(axis=1)\n",
    "    df.drop(percent_of_businesses_giving_paid_time_off_list,axis=1,inplace=True)\n",
    "    \n",
    "    \n",
    "    return df"
   ]
  },
  {
   "cell_type": "code",
   "execution_count": 34,
   "metadata": {
    "collapsed": true
   },
   "outputs": [],
   "source": [
    "def av_observed_federal_holiday(df):\n",
    "    \n",
    "    '''\n",
    "    Add variable for oberved federal holiday\n",
    "    '''\n",
    "    \n",
    "    df['observerd_federal_holiday'] = ((df['federal_holidays_-1'] == 1) & (df['fri'] == 1)).astype(int)\n",
    "    \n",
    "    df['observerd_federal_holiday'] = ((df['federal_holidays_+1'] == 1) & (df['mon'] == 1)).astype(int)\n",
    "    \n",
    "    df['federal_holidays'] = df['federal_holidays'] + df['observerd_federal_holiday']\n",
    "    \n",
    "    \n",
    "    return df"
   ]
  },
  {
   "cell_type": "code",
   "execution_count": 35,
   "metadata": {},
   "outputs": [],
   "source": [
    "def av(raw_input,no_pattern_holidays):\n",
    "    '''\n",
    "    Use all AV functions\n",
    "    '''\n",
    "    \n",
    "    raw_input = av_weekday(raw_input)\n",
    "    raw_input = av_month(raw_input)\n",
    "    raw_input = av_dayofmonth(raw_input)\n",
    "    raw_input = av_weekofyear(raw_input)\n",
    "    raw_input = av_weekofmonth(raw_input)\n",
    "    raw_input = av_weekday_ordinal(raw_input)\n",
    "    raw_input = av_minor_holidays(raw_input)\n",
    "    raw_input,federal_holidays = av_federal_holiday(raw_input)\n",
    "    raw_input = av_weekday_ordinal2(raw_input)\n",
    "    raw_input = av_daysinmonth(raw_input)\n",
    "    raw_input = av_seq(raw_input,date_col)\n",
    "    raw_input = av_startof_endof(raw_input)\n",
    "\n",
    "    for no_pattern_holiday in no_pattern_holidays:\n",
    "        raw_input = list_of_dates_to_column(raw_input,no_pattern_holidays[no_pattern_holiday],no_pattern_holiday)\n",
    "\n",
    "    raw_input = av_quarter(raw_input)\n",
    "    raw_input = av_leap_year(raw_input)\n",
    "    day_before_column_names, raw_input = av_day_before_after(day_before,day_after,raw_input)\n",
    "    raw_input = av_lags(raw_input,'detrended_y',day_lag = 15,week_lag=3)\n",
    "    raw_input = av_stock_market_closed(raw_input)\n",
    "    raw_input = av_observed_federal_holiday(raw_input)\n",
    "    raw_input = av_holiday_impact(raw_input)\n",
    "    \n",
    "    df = raw_input\n",
    "    \n",
    "    return df"
   ]
  },
  {
   "cell_type": "markdown",
   "metadata": {},
   "source": [
    "### Apply Function to Data"
   ]
  },
  {
   "cell_type": "code",
   "execution_count": 36,
   "metadata": {},
   "outputs": [],
   "source": [
    "df = av(raw_input,no_pattern_holidays)"
   ]
  },
  {
   "cell_type": "markdown",
   "metadata": {},
   "source": [
    "### Check Number of Columns"
   ]
  },
  {
   "cell_type": "code",
   "execution_count": 37,
   "metadata": {},
   "outputs": [
    {
     "name": "stdout",
     "output_type": "stream",
     "text": [
      "257 total columns\n"
     ]
    }
   ],
   "source": [
    "print(str(df.shape[1]) + ' total columns')"
   ]
  },
  {
   "cell_type": "markdown",
   "metadata": {},
   "source": [
    "### Inspect Output Dataframe"
   ]
  },
  {
   "cell_type": "code",
   "execution_count": 38,
   "metadata": {
    "scrolled": false
   },
   "outputs": [
    {
     "data": {
      "text/html": [
       "<div>\n",
       "<style>\n",
       "    .dataframe thead tr:only-child th {\n",
       "        text-align: right;\n",
       "    }\n",
       "\n",
       "    .dataframe thead th {\n",
       "        text-align: left;\n",
       "    }\n",
       "\n",
       "    .dataframe tbody tr th {\n",
       "        vertical-align: top;\n",
       "    }\n",
       "</style>\n",
       "<table border=\"1\" class=\"dataframe\">\n",
       "  <thead>\n",
       "    <tr style=\"text-align: right;\">\n",
       "      <th></th>\n",
       "      <th>detrended_y</th>\n",
       "      <th>sun</th>\n",
       "      <th>mon</th>\n",
       "      <th>tue</th>\n",
       "      <th>wed</th>\n",
       "      <th>thu</th>\n",
       "      <th>fri</th>\n",
       "      <th>sat</th>\n",
       "      <th>month</th>\n",
       "      <th>jan</th>\n",
       "      <th>...</th>\n",
       "      <th>Rolling_std_42</th>\n",
       "      <th>Rolling_min_49</th>\n",
       "      <th>Rolling_max_49</th>\n",
       "      <th>Rolling_sum_49</th>\n",
       "      <th>Rolling_std_49</th>\n",
       "      <th>stock_market_closed</th>\n",
       "      <th>observerd_federal_holiday</th>\n",
       "      <th>government_offices_closed</th>\n",
       "      <th>percent_of_americans_celebrating</th>\n",
       "      <th>percent_of_businesses_giving_paid_time_off</th>\n",
       "    </tr>\n",
       "    <tr>\n",
       "      <th>Date</th>\n",
       "      <th></th>\n",
       "      <th></th>\n",
       "      <th></th>\n",
       "      <th></th>\n",
       "      <th></th>\n",
       "      <th></th>\n",
       "      <th></th>\n",
       "      <th></th>\n",
       "      <th></th>\n",
       "      <th></th>\n",
       "      <th></th>\n",
       "      <th></th>\n",
       "      <th></th>\n",
       "      <th></th>\n",
       "      <th></th>\n",
       "      <th></th>\n",
       "      <th></th>\n",
       "      <th></th>\n",
       "      <th></th>\n",
       "      <th></th>\n",
       "      <th></th>\n",
       "    </tr>\n",
       "  </thead>\n",
       "  <tbody>\n",
       "    <tr>\n",
       "      <th>1993-03-22</th>\n",
       "      <td>0.994448</td>\n",
       "      <td>0</td>\n",
       "      <td>1</td>\n",
       "      <td>0</td>\n",
       "      <td>0</td>\n",
       "      <td>0</td>\n",
       "      <td>0</td>\n",
       "      <td>0</td>\n",
       "      <td>3</td>\n",
       "      <td>0</td>\n",
       "      <td>...</td>\n",
       "      <td>0.007010</td>\n",
       "      <td>0.974773</td>\n",
       "      <td>1.022346</td>\n",
       "      <td>49.017720</td>\n",
       "      <td>0.006682</td>\n",
       "      <td>0</td>\n",
       "      <td>0</td>\n",
       "      <td>0.0</td>\n",
       "      <td>0.0</td>\n",
       "      <td>0.0</td>\n",
       "    </tr>\n",
       "    <tr>\n",
       "      <th>1993-03-23</th>\n",
       "      <td>1.002095</td>\n",
       "      <td>0</td>\n",
       "      <td>0</td>\n",
       "      <td>1</td>\n",
       "      <td>0</td>\n",
       "      <td>0</td>\n",
       "      <td>0</td>\n",
       "      <td>0</td>\n",
       "      <td>3</td>\n",
       "      <td>0</td>\n",
       "      <td>...</td>\n",
       "      <td>0.006929</td>\n",
       "      <td>0.974773</td>\n",
       "      <td>1.022346</td>\n",
       "      <td>49.017697</td>\n",
       "      <td>0.006681</td>\n",
       "      <td>0</td>\n",
       "      <td>0</td>\n",
       "      <td>0.0</td>\n",
       "      <td>0.0</td>\n",
       "      <td>0.0</td>\n",
       "    </tr>\n",
       "    <tr>\n",
       "      <th>1993-03-24</th>\n",
       "      <td>1.000000</td>\n",
       "      <td>0</td>\n",
       "      <td>0</td>\n",
       "      <td>0</td>\n",
       "      <td>1</td>\n",
       "      <td>0</td>\n",
       "      <td>0</td>\n",
       "      <td>0</td>\n",
       "      <td>3</td>\n",
       "      <td>0</td>\n",
       "      <td>...</td>\n",
       "      <td>0.006927</td>\n",
       "      <td>0.974773</td>\n",
       "      <td>1.022346</td>\n",
       "      <td>49.007125</td>\n",
       "      <td>0.006513</td>\n",
       "      <td>0</td>\n",
       "      <td>0</td>\n",
       "      <td>0.0</td>\n",
       "      <td>0.0</td>\n",
       "      <td>0.0</td>\n",
       "    </tr>\n",
       "    <tr>\n",
       "      <th>1993-03-25</th>\n",
       "      <td>1.006266</td>\n",
       "      <td>0</td>\n",
       "      <td>0</td>\n",
       "      <td>0</td>\n",
       "      <td>0</td>\n",
       "      <td>1</td>\n",
       "      <td>0</td>\n",
       "      <td>0</td>\n",
       "      <td>3</td>\n",
       "      <td>0</td>\n",
       "      <td>...</td>\n",
       "      <td>0.006953</td>\n",
       "      <td>0.974773</td>\n",
       "      <td>1.022346</td>\n",
       "      <td>49.009207</td>\n",
       "      <td>0.006547</td>\n",
       "      <td>0</td>\n",
       "      <td>0</td>\n",
       "      <td>0.0</td>\n",
       "      <td>0.0</td>\n",
       "      <td>0.0</td>\n",
       "    </tr>\n",
       "    <tr>\n",
       "      <th>1993-03-26</th>\n",
       "      <td>0.994464</td>\n",
       "      <td>0</td>\n",
       "      <td>0</td>\n",
       "      <td>0</td>\n",
       "      <td>0</td>\n",
       "      <td>0</td>\n",
       "      <td>1</td>\n",
       "      <td>0</td>\n",
       "      <td>3</td>\n",
       "      <td>0</td>\n",
       "      <td>...</td>\n",
       "      <td>0.006901</td>\n",
       "      <td>0.974773</td>\n",
       "      <td>1.022346</td>\n",
       "      <td>49.004366</td>\n",
       "      <td>0.006597</td>\n",
       "      <td>0</td>\n",
       "      <td>0</td>\n",
       "      <td>0.0</td>\n",
       "      <td>0.0</td>\n",
       "      <td>0.0</td>\n",
       "    </tr>\n",
       "  </tbody>\n",
       "</table>\n",
       "<p>5 rows × 257 columns</p>\n",
       "</div>"
      ],
      "text/plain": [
       "            detrended_y  sun  mon  tue  wed  thu  fri  sat  month  jan  \\\n",
       "Date                                                                     \n",
       "1993-03-22     0.994448    0    1    0    0    0    0    0      3    0   \n",
       "1993-03-23     1.002095    0    0    1    0    0    0    0      3    0   \n",
       "1993-03-24     1.000000    0    0    0    1    0    0    0      3    0   \n",
       "1993-03-25     1.006266    0    0    0    0    1    0    0      3    0   \n",
       "1993-03-26     0.994464    0    0    0    0    0    1    0      3    0   \n",
       "\n",
       "                               ...                      Rolling_std_42  \\\n",
       "Date                           ...                                       \n",
       "1993-03-22                     ...                            0.007010   \n",
       "1993-03-23                     ...                            0.006929   \n",
       "1993-03-24                     ...                            0.006927   \n",
       "1993-03-25                     ...                            0.006953   \n",
       "1993-03-26                     ...                            0.006901   \n",
       "\n",
       "            Rolling_min_49  Rolling_max_49  Rolling_sum_49  Rolling_std_49  \\\n",
       "Date                                                                         \n",
       "1993-03-22        0.974773        1.022346       49.017720        0.006682   \n",
       "1993-03-23        0.974773        1.022346       49.017697        0.006681   \n",
       "1993-03-24        0.974773        1.022346       49.007125        0.006513   \n",
       "1993-03-25        0.974773        1.022346       49.009207        0.006547   \n",
       "1993-03-26        0.974773        1.022346       49.004366        0.006597   \n",
       "\n",
       "            stock_market_closed  observerd_federal_holiday  \\\n",
       "Date                                                         \n",
       "1993-03-22                    0                          0   \n",
       "1993-03-23                    0                          0   \n",
       "1993-03-24                    0                          0   \n",
       "1993-03-25                    0                          0   \n",
       "1993-03-26                    0                          0   \n",
       "\n",
       "            government_offices_closed  percent_of_americans_celebrating  \\\n",
       "Date                                                                      \n",
       "1993-03-22                        0.0                               0.0   \n",
       "1993-03-23                        0.0                               0.0   \n",
       "1993-03-24                        0.0                               0.0   \n",
       "1993-03-25                        0.0                               0.0   \n",
       "1993-03-26                        0.0                               0.0   \n",
       "\n",
       "            percent_of_businesses_giving_paid_time_off  \n",
       "Date                                                    \n",
       "1993-03-22                                         0.0  \n",
       "1993-03-23                                         0.0  \n",
       "1993-03-24                                         0.0  \n",
       "1993-03-25                                         0.0  \n",
       "1993-03-26                                         0.0  \n",
       "\n",
       "[5 rows x 257 columns]"
      ]
     },
     "execution_count": 38,
     "metadata": {},
     "output_type": "execute_result"
    }
   ],
   "source": [
    "df.head()"
   ]
  },
  {
   "cell_type": "code",
   "execution_count": 39,
   "metadata": {
    "scrolled": false
   },
   "outputs": [
    {
     "data": {
      "text/html": [
       "<div>\n",
       "<style>\n",
       "    .dataframe thead tr:only-child th {\n",
       "        text-align: right;\n",
       "    }\n",
       "\n",
       "    .dataframe thead th {\n",
       "        text-align: left;\n",
       "    }\n",
       "\n",
       "    .dataframe tbody tr th {\n",
       "        vertical-align: top;\n",
       "    }\n",
       "</style>\n",
       "<table border=\"1\" class=\"dataframe\">\n",
       "  <thead>\n",
       "    <tr style=\"text-align: right;\">\n",
       "      <th></th>\n",
       "      <th>detrended_y</th>\n",
       "      <th>sun</th>\n",
       "      <th>mon</th>\n",
       "      <th>tue</th>\n",
       "      <th>wed</th>\n",
       "      <th>thu</th>\n",
       "      <th>fri</th>\n",
       "      <th>sat</th>\n",
       "      <th>month</th>\n",
       "      <th>jan</th>\n",
       "      <th>...</th>\n",
       "      <th>Rolling_std_42</th>\n",
       "      <th>Rolling_min_49</th>\n",
       "      <th>Rolling_max_49</th>\n",
       "      <th>Rolling_sum_49</th>\n",
       "      <th>Rolling_std_49</th>\n",
       "      <th>stock_market_closed</th>\n",
       "      <th>observerd_federal_holiday</th>\n",
       "      <th>government_offices_closed</th>\n",
       "      <th>percent_of_americans_celebrating</th>\n",
       "      <th>percent_of_businesses_giving_paid_time_off</th>\n",
       "    </tr>\n",
       "    <tr>\n",
       "      <th>Date</th>\n",
       "      <th></th>\n",
       "      <th></th>\n",
       "      <th></th>\n",
       "      <th></th>\n",
       "      <th></th>\n",
       "      <th></th>\n",
       "      <th></th>\n",
       "      <th></th>\n",
       "      <th></th>\n",
       "      <th></th>\n",
       "      <th></th>\n",
       "      <th></th>\n",
       "      <th></th>\n",
       "      <th></th>\n",
       "      <th></th>\n",
       "      <th></th>\n",
       "      <th></th>\n",
       "      <th></th>\n",
       "      <th></th>\n",
       "      <th></th>\n",
       "      <th></th>\n",
       "    </tr>\n",
       "  </thead>\n",
       "  <tbody>\n",
       "    <tr>\n",
       "      <th>2019-04-29</th>\n",
       "      <td>1.001568</td>\n",
       "      <td>0</td>\n",
       "      <td>1</td>\n",
       "      <td>0</td>\n",
       "      <td>0</td>\n",
       "      <td>0</td>\n",
       "      <td>0</td>\n",
       "      <td>0</td>\n",
       "      <td>4</td>\n",
       "      <td>0</td>\n",
       "      <td>...</td>\n",
       "      <td>0.004903</td>\n",
       "      <td>0.980754</td>\n",
       "      <td>1.011859</td>\n",
       "      <td>49.058891</td>\n",
       "      <td>0.004677</td>\n",
       "      <td>0</td>\n",
       "      <td>0</td>\n",
       "      <td>0.0</td>\n",
       "      <td>0.0</td>\n",
       "      <td>0.0</td>\n",
       "    </tr>\n",
       "    <tr>\n",
       "      <th>2019-04-30</th>\n",
       "      <td>1.000510</td>\n",
       "      <td>0</td>\n",
       "      <td>0</td>\n",
       "      <td>1</td>\n",
       "      <td>0</td>\n",
       "      <td>0</td>\n",
       "      <td>0</td>\n",
       "      <td>0</td>\n",
       "      <td>4</td>\n",
       "      <td>0</td>\n",
       "      <td>...</td>\n",
       "      <td>0.004902</td>\n",
       "      <td>0.980754</td>\n",
       "      <td>1.011859</td>\n",
       "      <td>49.055630</td>\n",
       "      <td>0.004663</td>\n",
       "      <td>0</td>\n",
       "      <td>0</td>\n",
       "      <td>0.0</td>\n",
       "      <td>0.0</td>\n",
       "      <td>0.0</td>\n",
       "    </tr>\n",
       "    <tr>\n",
       "      <th>2019-05-01</th>\n",
       "      <td>0.992484</td>\n",
       "      <td>0</td>\n",
       "      <td>0</td>\n",
       "      <td>0</td>\n",
       "      <td>1</td>\n",
       "      <td>0</td>\n",
       "      <td>0</td>\n",
       "      <td>0</td>\n",
       "      <td>5</td>\n",
       "      <td>0</td>\n",
       "      <td>...</td>\n",
       "      <td>0.005039</td>\n",
       "      <td>0.980754</td>\n",
       "      <td>1.011859</td>\n",
       "      <td>49.041495</td>\n",
       "      <td>0.004753</td>\n",
       "      <td>0</td>\n",
       "      <td>0</td>\n",
       "      <td>0.0</td>\n",
       "      <td>0.0</td>\n",
       "      <td>0.0</td>\n",
       "    </tr>\n",
       "    <tr>\n",
       "      <th>2019-05-02</th>\n",
       "      <td>0.997841</td>\n",
       "      <td>0</td>\n",
       "      <td>0</td>\n",
       "      <td>0</td>\n",
       "      <td>0</td>\n",
       "      <td>1</td>\n",
       "      <td>0</td>\n",
       "      <td>0</td>\n",
       "      <td>5</td>\n",
       "      <td>0</td>\n",
       "      <td>...</td>\n",
       "      <td>0.004780</td>\n",
       "      <td>0.980754</td>\n",
       "      <td>1.011859</td>\n",
       "      <td>49.039975</td>\n",
       "      <td>0.004768</td>\n",
       "      <td>0</td>\n",
       "      <td>0</td>\n",
       "      <td>0.0</td>\n",
       "      <td>0.0</td>\n",
       "      <td>0.0</td>\n",
       "    </tr>\n",
       "    <tr>\n",
       "      <th>2019-05-03</th>\n",
       "      <td>1.009788</td>\n",
       "      <td>0</td>\n",
       "      <td>0</td>\n",
       "      <td>0</td>\n",
       "      <td>0</td>\n",
       "      <td>0</td>\n",
       "      <td>1</td>\n",
       "      <td>0</td>\n",
       "      <td>5</td>\n",
       "      <td>0</td>\n",
       "      <td>...</td>\n",
       "      <td>0.003859</td>\n",
       "      <td>0.980754</td>\n",
       "      <td>1.011859</td>\n",
       "      <td>49.044823</td>\n",
       "      <td>0.004903</td>\n",
       "      <td>0</td>\n",
       "      <td>0</td>\n",
       "      <td>0.0</td>\n",
       "      <td>0.0</td>\n",
       "      <td>0.0</td>\n",
       "    </tr>\n",
       "  </tbody>\n",
       "</table>\n",
       "<p>5 rows × 257 columns</p>\n",
       "</div>"
      ],
      "text/plain": [
       "            detrended_y  sun  mon  tue  wed  thu  fri  sat  month  jan  \\\n",
       "Date                                                                     \n",
       "2019-04-29     1.001568    0    1    0    0    0    0    0      4    0   \n",
       "2019-04-30     1.000510    0    0    1    0    0    0    0      4    0   \n",
       "2019-05-01     0.992484    0    0    0    1    0    0    0      5    0   \n",
       "2019-05-02     0.997841    0    0    0    0    1    0    0      5    0   \n",
       "2019-05-03     1.009788    0    0    0    0    0    1    0      5    0   \n",
       "\n",
       "                               ...                      Rolling_std_42  \\\n",
       "Date                           ...                                       \n",
       "2019-04-29                     ...                            0.004903   \n",
       "2019-04-30                     ...                            0.004902   \n",
       "2019-05-01                     ...                            0.005039   \n",
       "2019-05-02                     ...                            0.004780   \n",
       "2019-05-03                     ...                            0.003859   \n",
       "\n",
       "            Rolling_min_49  Rolling_max_49  Rolling_sum_49  Rolling_std_49  \\\n",
       "Date                                                                         \n",
       "2019-04-29        0.980754        1.011859       49.058891        0.004677   \n",
       "2019-04-30        0.980754        1.011859       49.055630        0.004663   \n",
       "2019-05-01        0.980754        1.011859       49.041495        0.004753   \n",
       "2019-05-02        0.980754        1.011859       49.039975        0.004768   \n",
       "2019-05-03        0.980754        1.011859       49.044823        0.004903   \n",
       "\n",
       "            stock_market_closed  observerd_federal_holiday  \\\n",
       "Date                                                         \n",
       "2019-04-29                    0                          0   \n",
       "2019-04-30                    0                          0   \n",
       "2019-05-01                    0                          0   \n",
       "2019-05-02                    0                          0   \n",
       "2019-05-03                    0                          0   \n",
       "\n",
       "            government_offices_closed  percent_of_americans_celebrating  \\\n",
       "Date                                                                      \n",
       "2019-04-29                        0.0                               0.0   \n",
       "2019-04-30                        0.0                               0.0   \n",
       "2019-05-01                        0.0                               0.0   \n",
       "2019-05-02                        0.0                               0.0   \n",
       "2019-05-03                        0.0                               0.0   \n",
       "\n",
       "            percent_of_businesses_giving_paid_time_off  \n",
       "Date                                                    \n",
       "2019-04-29                                         0.0  \n",
       "2019-04-30                                         0.0  \n",
       "2019-05-01                                         0.0  \n",
       "2019-05-02                                         0.0  \n",
       "2019-05-03                                         0.0  \n",
       "\n",
       "[5 rows x 257 columns]"
      ]
     },
     "execution_count": 39,
     "metadata": {},
     "output_type": "execute_result"
    }
   ],
   "source": [
    "df.tail()"
   ]
  },
  {
   "cell_type": "markdown",
   "metadata": {},
   "source": [
    "### Select Train/Test date threshold"
   ]
  },
  {
   "cell_type": "code",
   "execution_count": 40,
   "metadata": {
    "collapsed": true
   },
   "outputs": [],
   "source": [
    "threshold = '2018-01-01'"
   ]
  },
  {
   "cell_type": "markdown",
   "metadata": {},
   "source": [
    "### Divide Data into train and test"
   ]
  },
  {
   "cell_type": "code",
   "execution_count": 41,
   "metadata": {
    "collapsed": true
   },
   "outputs": [],
   "source": [
    "test = df[df.index>=threshold]\n",
    "train = df[df.index<threshold]"
   ]
  },
  {
   "cell_type": "markdown",
   "metadata": {},
   "source": [
    "### Split Train and Test into X and y"
   ]
  },
  {
   "cell_type": "code",
   "execution_count": 42,
   "metadata": {
    "collapsed": true
   },
   "outputs": [],
   "source": [
    "X_train =  train.drop('detrended_y',axis=1).values\n",
    "y_train = train['detrended_y'].values"
   ]
  },
  {
   "cell_type": "code",
   "execution_count": 43,
   "metadata": {
    "collapsed": true
   },
   "outputs": [],
   "source": [
    "X_test =  test.drop('detrended_y',axis=1).values\n",
    "y_test = test['detrended_y'].values"
   ]
  },
  {
   "cell_type": "markdown",
   "metadata": {},
   "source": [
    "### Use Random Forest Model"
   ]
  },
  {
   "cell_type": "code",
   "execution_count": 44,
   "metadata": {
    "scrolled": true
   },
   "outputs": [
    {
     "name": "stderr",
     "output_type": "stream",
     "text": [
      "C:\\Users\\nickj\\AppData\\Local\\Continuum\\Anaconda3\\envs\\py35\\lib\\site-packages\\sklearn\\ensemble\\weight_boosting.py:29: DeprecationWarning: numpy.core.umath_tests is an internal NumPy module and should not be imported. It will be removed in a future NumPy release.\n",
      "  from numpy.core.umath_tests import inner1d\n"
     ]
    },
    {
     "data": {
      "text/plain": [
       "RandomForestRegressor(bootstrap=True, criterion='mse', max_depth=None,\n",
       "           max_features='auto', max_leaf_nodes=None,\n",
       "           min_impurity_decrease=0.0, min_impurity_split=None,\n",
       "           min_samples_leaf=1, min_samples_split=2,\n",
       "           min_weight_fraction_leaf=0.0, n_estimators=10, n_jobs=1,\n",
       "           oob_score=False, random_state=None, verbose=0, warm_start=False)"
      ]
     },
     "execution_count": 44,
     "metadata": {},
     "output_type": "execute_result"
    }
   ],
   "source": [
    "from sklearn.ensemble import RandomForestRegressor\n",
    "\n",
    "forest = RandomForestRegressor()\n",
    "forest.fit(X_train, y_train)"
   ]
  },
  {
   "cell_type": "markdown",
   "metadata": {},
   "source": [
    "### Feature Importance"
   ]
  },
  {
   "cell_type": "code",
   "execution_count": 45,
   "metadata": {
    "scrolled": false
   },
   "outputs": [
    {
     "name": "stdout",
     "output_type": "stream",
     "text": [
      "Feature ranking:\n",
      "1. feature 225 (0.163376)\n",
      "2. feature 207 (0.073700)\n",
      "3. feature 210 (0.050710)\n",
      "4. feature 224 (0.041456)\n",
      "5. feature 211 (0.041172)\n",
      "6. feature 226 (0.040318)\n",
      "7. feature 208 (0.039953)\n",
      "8. feature 223 (0.038399)\n",
      "9. feature 212 (0.037607)\n",
      "10. feature 209 (0.033234)\n",
      "11. feature 213 (0.024590)\n",
      "12. feature 222 (0.023815)\n",
      "13. feature 221 (0.021180)\n",
      "14. feature 220 (0.018635)\n",
      "15. feature 241 (0.016840)\n",
      "16. feature 219 (0.016662)\n",
      "17. feature 214 (0.016210)\n",
      "18. feature 233 (0.015100)\n",
      "19. feature 246 (0.014822)\n",
      "20. feature 229 (0.013034)\n",
      "21. feature 218 (0.010790)\n",
      "22. feature 230 (0.010545)\n",
      "23. feature 227 (0.009944)\n",
      "24. feature 249 (0.009731)\n",
      "25. feature 217 (0.009018)\n",
      "26. feature 234 (0.008954)\n",
      "27. feature 237 (0.008815)\n",
      "28. feature 245 (0.008618)\n",
      "29. feature 216 (0.008589)\n",
      "30. feature 215 (0.008384)\n",
      "31. feature 228 (0.008250)\n",
      "32. feature 0 (0.008090)\n",
      "33. feature 6 (0.006757)\n",
      "34. feature 231 (0.006378)\n",
      "35. feature 148 (0.005687)\n",
      "36. feature 53 (0.005408)\n",
      "37. feature 232 (0.005251)\n",
      "38. feature 20 (0.005189)\n",
      "39. feature 242 (0.005074)\n",
      "40. feature 238 (0.005003)\n",
      "41. feature 250 (0.004863)\n",
      "42. feature 248 (0.004682)\n",
      "43. feature 239 (0.004369)\n",
      "44. feature 1 (0.004149)\n",
      "45. feature 235 (0.004077)\n",
      "46. feature 147 (0.003914)\n",
      "47. feature 247 (0.003489)\n",
      "48. feature 236 (0.003331)\n",
      "49. feature 5 (0.003288)\n",
      "50. feature 244 (0.003248)\n",
      "51. feature 4 (0.003188)\n",
      "52. feature 146 (0.002820)\n",
      "53. feature 240 (0.002763)\n",
      "54. feature 154 (0.002657)\n",
      "55. feature 243 (0.002457)\n",
      "56. feature 7 (0.002367)\n",
      "57. feature 2 (0.001768)\n",
      "58. feature 17 (0.001663)\n",
      "59. feature 55 (0.001514)\n",
      "60. feature 71 (0.001143)\n",
      "61. feature 157 (0.001065)\n",
      "62. feature 117 (0.000903)\n",
      "63. feature 49 (0.000834)\n",
      "64. feature 67 (0.000821)\n",
      "65. feature 85 (0.000801)\n",
      "66. feature 56 (0.000799)\n",
      "67. feature 114 (0.000797)\n",
      "68. feature 3 (0.000797)\n",
      "69. feature 255 (0.000795)\n",
      "70. feature 115 (0.000789)\n",
      "71. feature 57 (0.000756)\n",
      "72. feature 11 (0.000664)\n",
      "73. feature 54 (0.000660)\n",
      "74. feature 183 (0.000657)\n",
      "75. feature 136 (0.000640)\n",
      "76. feature 28 (0.000639)\n",
      "77. feature 158 (0.000635)\n",
      "78. feature 130 (0.000633)\n",
      "79. feature 144 (0.000629)\n",
      "80. feature 27 (0.000604)\n",
      "81. feature 116 (0.000561)\n",
      "82. feature 165 (0.000560)\n",
      "83. feature 70 (0.000545)\n",
      "84. feature 69 (0.000537)\n",
      "85. feature 52 (0.000503)\n",
      "86. feature 79 (0.000501)\n",
      "87. feature 43 (0.000488)\n",
      "88. feature 23 (0.000483)\n",
      "89. feature 65 (0.000482)\n",
      "90. feature 39 (0.000474)\n",
      "91. feature 44 (0.000465)\n",
      "92. feature 84 (0.000463)\n",
      "93. feature 76 (0.000462)\n",
      "94. feature 137 (0.000441)\n",
      "95. feature 145 (0.000441)\n",
      "96. feature 80 (0.000433)\n",
      "97. feature 72 (0.000431)\n",
      "98. feature 15 (0.000422)\n",
      "99. feature 125 (0.000408)\n",
      "100. feature 86 (0.000386)\n",
      "101. feature 122 (0.000385)\n",
      "102. feature 18 (0.000379)\n",
      "103. feature 120 (0.000371)\n",
      "104. feature 64 (0.000370)\n",
      "105. feature 124 (0.000369)\n",
      "106. feature 81 (0.000362)\n",
      "107. feature 32 (0.000361)\n",
      "108. feature 10 (0.000345)\n",
      "109. feature 82 (0.000339)\n",
      "110. feature 40 (0.000338)\n",
      "111. feature 127 (0.000338)\n",
      "112. feature 26 (0.000324)\n",
      "113. feature 75 (0.000320)\n",
      "114. feature 13 (0.000320)\n",
      "115. feature 132 (0.000317)\n",
      "116. feature 41 (0.000305)\n",
      "117. feature 135 (0.000304)\n",
      "118. feature 42 (0.000293)\n",
      "119. feature 134 (0.000289)\n",
      "120. feature 202 (0.000289)\n",
      "121. feature 167 (0.000281)\n",
      "122. feature 46 (0.000279)\n",
      "123. feature 87 (0.000274)\n",
      "124. feature 31 (0.000263)\n",
      "125. feature 14 (0.000261)\n",
      "126. feature 166 (0.000252)\n",
      "127. feature 38 (0.000249)\n",
      "128. feature 88 (0.000247)\n",
      "129. feature 25 (0.000245)\n",
      "130. feature 24 (0.000244)\n",
      "131. feature 74 (0.000239)\n",
      "132. feature 126 (0.000236)\n",
      "133. feature 16 (0.000235)\n",
      "134. feature 113 (0.000233)\n",
      "135. feature 140 (0.000229)\n",
      "136. feature 78 (0.000228)\n",
      "137. feature 73 (0.000223)\n",
      "138. feature 30 (0.000223)\n",
      "139. feature 33 (0.000220)\n",
      "140. feature 8 (0.000212)\n",
      "141. feature 253 (0.000207)\n",
      "142. feature 178 (0.000198)\n",
      "143. feature 138 (0.000196)\n",
      "144. feature 9 (0.000195)\n",
      "145. feature 129 (0.000195)\n",
      "146. feature 12 (0.000194)\n",
      "147. feature 34 (0.000193)\n",
      "148. feature 48 (0.000192)\n",
      "149. feature 36 (0.000190)\n",
      "150. feature 131 (0.000178)\n",
      "151. feature 119 (0.000175)\n",
      "152. feature 151 (0.000174)\n",
      "153. feature 66 (0.000172)\n",
      "154. feature 121 (0.000169)\n",
      "155. feature 68 (0.000168)\n",
      "156. feature 251 (0.000167)\n",
      "157. feature 123 (0.000161)\n",
      "158. feature 51 (0.000158)\n",
      "159. feature 29 (0.000157)\n",
      "160. feature 45 (0.000156)\n",
      "161. feature 58 (0.000154)\n",
      "162. feature 175 (0.000153)\n",
      "163. feature 83 (0.000153)\n",
      "164. feature 37 (0.000138)\n",
      "165. feature 35 (0.000135)\n",
      "166. feature 201 (0.000135)\n",
      "167. feature 180 (0.000134)\n",
      "168. feature 198 (0.000131)\n",
      "169. feature 163 (0.000128)\n",
      "170. feature 22 (0.000125)\n",
      "171. feature 128 (0.000120)\n",
      "172. feature 77 (0.000112)\n",
      "173. feature 156 (0.000112)\n",
      "174. feature 19 (0.000108)\n",
      "175. feature 197 (0.000105)\n",
      "176. feature 133 (0.000098)\n",
      "177. feature 50 (0.000095)\n",
      "178. feature 60 (0.000093)\n",
      "179. feature 59 (0.000079)\n",
      "180. feature 176 (0.000077)\n",
      "181. feature 47 (0.000075)\n",
      "182. feature 184 (0.000073)\n",
      "183. feature 171 (0.000065)\n",
      "184. feature 169 (0.000064)\n",
      "185. feature 21 (0.000060)\n",
      "186. feature 254 (0.000058)\n",
      "187. feature 94 (0.000057)\n",
      "188. feature 93 (0.000056)\n",
      "189. feature 168 (0.000049)\n",
      "190. feature 91 (0.000049)\n",
      "191. feature 172 (0.000048)\n",
      "192. feature 89 (0.000041)\n",
      "193. feature 186 (0.000038)\n",
      "194. feature 118 (0.000026)\n",
      "195. feature 150 (0.000025)\n",
      "196. feature 206 (0.000025)\n",
      "197. feature 106 (0.000023)\n",
      "198. feature 161 (0.000018)\n",
      "199. feature 104 (0.000015)\n",
      "200. feature 190 (0.000015)\n",
      "201. feature 170 (0.000011)\n",
      "202. feature 143 (0.000010)\n",
      "203. feature 102 (0.000010)\n",
      "204. feature 101 (0.000010)\n",
      "205. feature 61 (0.000009)\n",
      "206. feature 149 (0.000008)\n",
      "207. feature 108 (0.000008)\n",
      "208. feature 162 (0.000007)\n",
      "209. feature 153 (0.000005)\n",
      "210. feature 155 (0.000005)\n",
      "211. feature 185 (0.000005)\n",
      "212. feature 200 (0.000004)\n",
      "213. feature 173 (0.000004)\n",
      "214. feature 189 (0.000002)\n",
      "215. feature 110 (0.000002)\n",
      "216. feature 142 (0.000002)\n",
      "217. feature 96 (0.000001)\n",
      "218. feature 99 (0.000001)\n",
      "219. feature 141 (0.000001)\n",
      "220. feature 174 (0.000001)\n",
      "221. feature 62 (0.000001)\n",
      "222. feature 100 (0.000001)\n",
      "223. feature 252 (0.000000)\n",
      "224. feature 103 (0.000000)\n",
      "225. feature 191 (0.000000)\n",
      "226. feature 63 (0.000000)\n",
      "227. feature 109 (0.000000)\n",
      "228. feature 105 (0.000000)\n",
      "229. feature 164 (0.000000)\n",
      "230. feature 182 (0.000000)\n",
      "231. feature 181 (0.000000)\n",
      "232. feature 179 (0.000000)\n",
      "233. feature 160 (0.000000)\n",
      "234. feature 203 (0.000000)\n",
      "235. feature 204 (0.000000)\n",
      "236. feature 205 (0.000000)\n",
      "237. feature 177 (0.000000)\n",
      "238. feature 196 (0.000000)\n",
      "239. feature 159 (0.000000)\n",
      "240. feature 187 (0.000000)\n",
      "241. feature 194 (0.000000)\n",
      "242. feature 90 (0.000000)\n",
      "243. feature 92 (0.000000)\n",
      "244. feature 95 (0.000000)\n",
      "245. feature 97 (0.000000)\n",
      "246. feature 199 (0.000000)\n",
      "247. feature 98 (0.000000)\n",
      "248. feature 107 (0.000000)\n",
      "249. feature 111 (0.000000)\n",
      "250. feature 112 (0.000000)\n",
      "251. feature 193 (0.000000)\n",
      "252. feature 192 (0.000000)\n",
      "253. feature 195 (0.000000)\n",
      "254. feature 152 (0.000000)\n",
      "255. feature 188 (0.000000)\n",
      "256. feature 139 (0.000000)\n"
     ]
    }
   ],
   "source": [
    "importances = forest.feature_importances_\n",
    "std = np.std([tree.feature_importances_ for tree in forest.estimators_],\n",
    "             axis=0)\n",
    "indices = np.argsort(importances)[::-1]\n",
    "\n",
    "# Print the feature ranking\n",
    "print(\"Feature ranking:\")\n",
    "\n",
    "for f in range(X_train.shape[1]):\n",
    "    print(\"%d. feature %d (%f)\" % (f + 1, indices[f], importances[indices[f]]))\n"
   ]
  },
  {
   "cell_type": "markdown",
   "metadata": {},
   "source": [
    "### Make a Prediction"
   ]
  },
  {
   "cell_type": "code",
   "execution_count": 46,
   "metadata": {},
   "outputs": [],
   "source": [
    "y_hat = forest.predict(X_test)"
   ]
  },
  {
   "cell_type": "markdown",
   "metadata": {},
   "source": [
    "### Prediction MAPE"
   ]
  },
  {
   "cell_type": "code",
   "execution_count": 47,
   "metadata": {},
   "outputs": [
    {
     "data": {
      "text/plain": [
       "'MAPE: 0.4%'"
      ]
     },
     "execution_count": 47,
     "metadata": {},
     "output_type": "execute_result"
    }
   ],
   "source": [
    "'MAPE: ' + str(np.round(np.mean(abs(y_test-y_hat)/y_test)*100,2)) + '%'"
   ]
  },
  {
   "cell_type": "markdown",
   "metadata": {},
   "source": [
    "### Forecast vs Actuals Plot"
   ]
  },
  {
   "cell_type": "code",
   "execution_count": 48,
   "metadata": {},
   "outputs": [
    {
     "data": {
      "text/plain": [
       "<matplotlib.axes._subplots.AxesSubplot at 0x22917c39780>"
      ]
     },
     "execution_count": 48,
     "metadata": {},
     "output_type": "execute_result"
    },
    {
     "data": {
      "image/png": "[encoded data removed]",
      "text/plain": [
       "<matplotlib.figure.Figure at 0x22917c39be0>"
      ]
     },
     "metadata": {},
     "output_type": "display_data"
    }
   ],
   "source": [
    "pd.DataFrame({'actual':y_test,'forecast':y_hat}).set_index(df.index[df.index>=threshold]).plot(figsize=(16,4))"
   ]
  }
 ],
 "metadata": {
  "anaconda-cloud": {},
  "kernelspec": {
   "display_name": "Python 3",
   "language": "python",
   "name": "python3"
  },
  "language_info": {
   "codemirror_mode": {
    "name": "ipython",
    "version": 3
   },
   "file_extension": ".py",
   "mimetype": "text/x-python",
   "name": "python",
   "nbconvert_exporter": "python",
   "pygments_lexer": "ipython3",
   "version": "3.5.3"
  }
 },
 "nbformat": 4,
 "nbformat_minor": 1
}
